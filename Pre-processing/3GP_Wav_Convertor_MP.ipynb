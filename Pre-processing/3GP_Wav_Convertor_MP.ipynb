{
  "nbformat": 4,
  "nbformat_minor": 0,
  "metadata": {
    "colab": {
      "provenance": []
    },
    "kernelspec": {
      "name": "python3",
      "display_name": "Python 3"
    },
    "language_info": {
      "name": "python"
    }
  },
  "cells": [
    {
      "cell_type": "code",
      "execution_count": 9,
      "metadata": {
        "colab": {
          "base_uri": "https://localhost:8080/"
        },
        "id": "akM2thB44V4l",
        "outputId": "4b03ddf4-dab8-423a-9e58-d37fa90a2b66"
      },
      "outputs": [
        {
          "output_type": "stream",
          "name": "stdout",
          "text": [
            "Drive already mounted at /content/drive; to attempt to forcibly remount, call drive.mount(\"/content/drive\", force_remount=True).\n"
          ]
        }
      ],
      "source": [
        "from google.colab import drive\n",
        "drive.mount('/content/drive')"
      ]
    },
    {
      "cell_type": "code",
      "source": [
        "!apt-get install -y ffmpeg"
      ],
      "metadata": {
        "colab": {
          "base_uri": "https://localhost:8080/"
        },
        "id": "FjW_jsq7500r",
        "outputId": "6b5e233f-35df-4fa5-975a-a7933368d3f1"
      },
      "execution_count": 7,
      "outputs": [
        {
          "output_type": "stream",
          "name": "stdout",
          "text": [
            "Reading package lists... Done\n",
            "Building dependency tree... Done\n",
            "Reading state information... Done\n",
            "ffmpeg is already the newest version (7:4.4.2-0ubuntu0.22.04.1).\n",
            "0 upgraded, 0 newly installed, 0 to remove and 49 not upgraded.\n"
          ]
        }
      ]
    },
    {
      "cell_type": "code",
      "source": [
        "import os\n",
        "import subprocess\n",
        "\n",
        "# Input and output folders\n",
        "input_folder = '/content/drive/MyDrive/Anxiety-Project/MS/audio_file/Audio_3gp/'\n",
        "output_folder = '/content/drive/MyDrive/Anxiety-Project/MS/audio_file/Audio_wav/'\n",
        "\n",
        "\n",
        "for filename in os.listdir(input_folder):\n",
        "    if filename.endswith('.3gp'):\n",
        "        # Input and output paths\n",
        "        input_path = os.path.join(input_folder, filename)\n",
        "        output_path = os.path.join(output_folder, f\"{os.path.splitext(filename)[0]}.wav\")\n",
        "\n",
        "        # ffmpeg to convert files\n",
        "        subprocess.run(['ffmpeg', '-i', input_path, output_path])"
      ],
      "metadata": {
        "id": "O2MSnDgtLoJq"
      },
      "execution_count": 10,
      "outputs": []
    }
  ]
}